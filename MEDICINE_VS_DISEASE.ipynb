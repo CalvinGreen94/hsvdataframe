{
   "outputs": [],
   "source": [
    "# import keras\n",
    "# import numpy as np\n",
    "# import pandas as pd\n",
    "# import tensorflow as tf\n",
    "# from sklearn.model_selection import KFold\n",
    "# from sklearn.preprocessing import MaxAbsScaler\n",
    "# from sklearn.tree import DecisionTreeRegressor\n",
    "# from keras import Sequential,activations,metrics\n",
    "# from sklearn.linear_model import LinearRegression\n",
    "# from sklearn.ensemble import RandomForestRegressor\n",
    "# from sklearn.model_selection import cross_val_score\n",
    "# from keras.wrappers.scikit_learn import KerasRegressor\n",
    "# from keras.layers import Dropout,Activation,RNN,SimpleRNN,Dense"
   ]
  },
  {
   "cell_type": "code",
   "execution_count": 2,
   "metadata": {
    "ExecuteTime": {
     "end_time": "2018-09-24T17:13:07.031903Z",
     "start_time": "2018-09-24T17:13:07.019914Z"
    }
   },
   "outputs": [
    {
     "name": "stdout",
     "output_type": "stream",
     "text": [
      "MEDICINE TEST\n"
     ]
    },
    {
     "data": {
      "text/html": [
       "<div>\n",
       "<style scoped>\n",
       "    .dataframe tbody tr th:only-of-type {\n",
       "        vertical-align: middle;\n",
       "    }\n",
       "\n",
       "    .dataframe tbody tr th {\n",
       "        vertical-align: top;\n",
       "    }\n",
       "\n",
       "    .dataframe thead th {\n",
       "        text-align: right;\n",
       "    }\n",
       "</style>\n",
       "<table border=\"1\" class=\"dataframe\">\n",
       "  <thead>\n",
       "    <tr style=\"text-align: right;\">\n",
       "      <th></th>\n",
       "      <th>Valacyclovir</th>\n",
       "      <th>Tea Tree</th>\n",
       "      <th>Oleurpein</th>\n",
       "      <th>Cannabidiolic Acid</th>\n",
       "      <th>Vitamin B-17</th>\n",
       "    </tr>\n",
       "  </thead>\n",
       "  <tbody>\n",
       "    <tr>\n",
       "      <th>C</th>\n",
       "      <td>13</td>\n",
       "      <td>28</td>\n",
       "      <td>25</td>\n",
       "      <td>22</td>\n",
       "      <td>20</td>\n",
       "    </tr>\n",
       "    <tr>\n",
       "      <th>H</th>\n",
       "      <td>20</td>\n",
       "      <td>60</td>\n",
       "      <td>32</td>\n",
       "      <td>29</td>\n",
       "      <td>27</td>\n",
       "    </tr>\n",
       "    <tr>\n",
       "      <th>N</th>\n",
       "      <td>6</td>\n",
       "      <td>0</td>\n",
       "      <td>13</td>\n",
       "      <td>0</td>\n",
       "      <td>1</td>\n",
       "    </tr>\n",
       "    <tr>\n",
       "      <th>O</th>\n",
       "      <td>4</td>\n",
       "      <td>4</td>\n",
       "      <td>0</td>\n",
       "      <td>4</td>\n",
       "      <td>11</td>\n",
       "    </tr>\n",
       "    <tr>\n",
       "      <th>P</th>\n",
       "      <td>0</td>\n",
       "      <td>2</td>\n",
       "      <td>0</td>\n",
       "      <td>0</td>\n",
       "      <td>0</td>\n",
       "    </tr>\n",
       "    <tr>\n",
       "      <th>S</th>\n",
       "      <td>0</td>\n",
       "      <td>4</td>\n",
       "      <td>0</td>\n",
       "      <td>0</td>\n",
       "      <td>0</td>\n",
       "    </tr>\n",
       "    <tr>\n",
       "      <th>Zn</th>\n",
       "      <td>0</td>\n",
       "      <td>1</td>\n",
       "      <td>0</td>\n",
       "      <td>0</td>\n",
       "      <td>0</td>\n",
       "    </tr>\n",
       "  </tbody>\n",
       "</table>\n",
       "</div>"
      ],
      "text/plain": [
       "    Valacyclovir  Tea Tree  Oleurpein  Cannabidiolic Acid  Vitamin B-17\n",
       "C             13        28         25                  22            20\n",
       "H             20        60         32                  29            27\n",
       "N              6         0         13                   0             1\n",
       "O              4         4          0                   4            11\n",
       "P              0         2          0                   0             0\n",
       "S              0         4          0                   0             0\n",
       "Zn             0         1          0                   0             0"
      ]
     },
     "metadata": {},
     "output_type": "display_data"
    }
   ],
   "source": [
    "\n",
    "medicine = {'Valacyclovir': [13,20,6,4,0,0,0],'Momordica':[318,499,71,83,0,2,0],\n",
    "           'Oleurpein': [25,32,13,0,0,0,0],'Linalool':[10,18,0,1,0,0,0],\n",
    "           'Cannabigerolic Acid': [22,32,0,4,0,0,0]}\n",
    "print('MEDICINE TRAIN')\n",
    "medicine = pd.DataFrame(data=medicine,index=['C','H','N','O','P','S','Zn'])\n",
    "display(medicine)\n",
    "\n",
    "medicine_test = {'Valacyclovir': [13,20,6,4,0,0,0],'Tea Tree':[28,60,0,4,2,4,1],\n",
    "           'Oleurpein': [25,32,13,0,0,0,0],'Cannabidiolic Acid':[22,29,0,4,0,0,0],\n",
    "           'Vitamin B-17': [20,27,1,11,0,0,0]}\n",
    "print('MEDICINE TEST')\n",
    "medicine_test = pd.DataFrame(data=medicine_test,index=['C','H','N','O','P','S','Zn'])\n",
    "display(medicine_test)"
   ]
  },
  {
   "cell_type": "code",
   "execution_count": 3,
   "metadata": {
    "ExecuteTime": {
     "end_time": "2018-09-24T17:13:07.637039Z",
     "start_time": "2018-09-24T17:13:07.625182Z"
    }
   },
   "outputs": [
    {
     "name": "stdout",
     "output_type": "stream",
     "text": [
      "AMINO ACIDS\n"
     ]
    },
    {
     "data": {
      "text/html": [
       "<div>\n",
       "<style scoped>\n",
       "    .dataframe tbody tr th:only-of-type {\n",
       "        vertical-align: middle;\n",
       "    }\n",
       "\n",
       "    .dataframe tbody tr th {\n",
       "        vertical-align: top;\n",
       "    }\n",
       "\n",
       "    .dataframe thead th {\n",
       "        text-align: right;\n",
       "    }\n",
       "</style>\n",
       "<table border=\"1\" class=\"dataframe\">\n",
       "  <thead>\n",
       "    <tr style=\"text-align: right;\">\n",
       "      <th></th>\n",
       "      <th>DEOXYRIBOSE</th>\n",
       "      <th>ADENINE</th>\n",
       "      <th>GUANINE</th>\n",
       "      <th>CYTOSINE</th>\n",
       "      <th>THYMIDINE</th>\n",
       "    </tr>\n",
       "  </thead>\n",
       "  <tbody>\n",
       "    <tr>\n",
       "      <th>C</th>\n",
       "      <td>5</td>\n",
       "      <td>5</td>\n",
       "      <td>5</td>\n",
       "      <td>4</td>\n",
       "      <td>10</td>\n",
       "    </tr>\n",
       "    <tr>\n",
       "      <th>H</th>\n",
       "      <td>10</td>\n",
       "      <td>5</td>\n",
       "      <td>5</td>\n",
       "      <td>5</td>\n",
       "      <td>14</td>\n",
       "    </tr>\n",
       "    <tr>\n",
       "      <th>N</th>\n",
       "      <td>0</td>\n",
       "      <td>5</td>\n",
       "      <td>5</td>\n",
       "      <td>3</td>\n",
       "      <td>2</td>\n",
       "    </tr>\n",
       "    <tr>\n",
       "      <th>O</th>\n",
       "      <td>4</td>\n",
       "      <td>0</td>\n",
       "      <td>1</td>\n",
       "      <td>1</td>\n",
       "      <td>5</td>\n",
       "    </tr>\n",
       "    <tr>\n",
       "      <th>P</th>\n",
       "      <td>0</td>\n",
       "      <td>0</td>\n",
       "      <td>0</td>\n",
       "      <td>0</td>\n",
       "      <td>0</td>\n",
       "    </tr>\n",
       "    <tr>\n",
       "      <th>S</th>\n",
       "      <td>0</td>\n",
       "      <td>0</td>\n",
       "      <td>0</td>\n",
       "      <td>0</td>\n",
       "      <td>0</td>\n",
       "    </tr>\n",
       "    <tr>\n",
       "      <th>Zn</th>\n",
       "      <td>0</td>\n",
       "      <td>0</td>\n",
       "      <td>0</td>\n",
       "      <td>0</td>\n",
       "      <td>0</td>\n",
       "    </tr>\n",
       "  </tbody>\n",
       "</table>\n",
       "</div>"
      ],
      "text/plain": [
       "    DEOXYRIBOSE  ADENINE  GUANINE  CYTOSINE  THYMIDINE\n",
       "C             5        5        5         4         10\n",
       "H            10        5        5         5         14\n",
       "N             0        5        5         3          2\n",
       "O             4        0        1         1          5\n",
       "P             0        0        0         0          0\n",
       "S             0        0        0         0          0\n",
       "Zn            0        0        0         0          0"
      ]
     },
     "metadata": {},
     "output_type": "display_data"
    }
   ],
   "source": [
    "amino_acids = {'DEOXYRIBOSE': [5,10,0,4,0,0,0],'ADENINE':[5,5,5,0,0,0,0],\n",
    "           'GUANINE': [5,5,5,1,0,0,0],'CYTOSINE':[4,5,3,1,0,0,0],\n",
    "           'THYMIDINE': [10,14,2,5,0,0,0]}\n",
    "print('AMINO ACIDS')\n",
    "amino_acids = pd.DataFrame(data=amino_acids,index=['C','H','N','O','P','S','Zn'])\n",
    "display(amino_acids)"
   ]
  },
  {
   "cell_type": "code",
   "execution_count": 4,
   "metadata": {
    "ExecuteTime": {
     "end_time": "2018-09-24T17:13:08.045210Z",
     "start_time": "2018-09-24T17:13:08.034240Z"
    }
   },
   "outputs": [
    {
     "name": "stdout",
     "output_type": "stream",
     "text": [
      "DISEASE\n"
     ]
    },
    {
     "data": {
      "text/html": [
       "<div>\n",
       "<style scoped>\n",
       "    .dataframe tbody tr th:only-of-type {\n",
       "        vertical-align: middle;\n",
       "    }\n",
       "\n",
       "    .dataframe tbody tr th {\n",
       "        vertical-align: top;\n",
       "    }\n",
       "\n",
       "    .dataframe thead th {\n",
       "        text-align: right;\n",
       "    }\n",
       "</style>\n",
       "<table border=\"1\" class=\"dataframe\">\n",
       "  <thead>\n",
       "    <tr style=\"text-align: right;\">\n",
       "      <th></th>\n",
       "      <th>HSV2</th>\n",
       "      <th>H1N1</th>\n",
       "      <th>H2N2</th>\n",
       "      <th>hyperuricemia</th>\n",
       "      <th>test</th>\n",
       "    </tr>\n",
       "  </thead>\n",
       "  <tbody>\n",
       "    <tr>\n",
       "      <th>C</th>\n",
       "      <td>2265</td>\n",
       "      <td>0</td>\n",
       "      <td>0</td>\n",
       "      <td>5</td>\n",
       "      <td>2</td>\n",
       "    </tr>\n",
       "    <tr>\n",
       "      <th>H</th>\n",
       "      <td>3599</td>\n",
       "      <td>1</td>\n",
       "      <td>3</td>\n",
       "      <td>4</td>\n",
       "      <td>1</td>\n",
       "    </tr>\n",
       "    <tr>\n",
       "      <th>N</th>\n",
       "      <td>651</td>\n",
       "      <td>1</td>\n",
       "      <td>2</td>\n",
       "      <td>4</td>\n",
       "      <td>3</td>\n",
       "    </tr>\n",
       "    <tr>\n",
       "      <th>O</th>\n",
       "      <td>680</td>\n",
       "      <td>0</td>\n",
       "      <td>0</td>\n",
       "      <td>3</td>\n",
       "      <td>8</td>\n",
       "    </tr>\n",
       "    <tr>\n",
       "      <th>P</th>\n",
       "      <td>0</td>\n",
       "      <td>0</td>\n",
       "      <td>0</td>\n",
       "      <td>0</td>\n",
       "      <td>7</td>\n",
       "    </tr>\n",
       "    <tr>\n",
       "      <th>S</th>\n",
       "      <td>13</td>\n",
       "      <td>0</td>\n",
       "      <td>0</td>\n",
       "      <td>0</td>\n",
       "      <td>2</td>\n",
       "    </tr>\n",
       "    <tr>\n",
       "      <th>Zn</th>\n",
       "      <td>0</td>\n",
       "      <td>0</td>\n",
       "      <td>0</td>\n",
       "      <td>0</td>\n",
       "      <td>0</td>\n",
       "    </tr>\n",
       "  </tbody>\n",
       "</table>\n",
       "</div>"
      ],
      "text/plain": [
       "    HSV2  H1N1  H2N2  hyperuricemia  test\n",
       "C   2265     0     0              5     2\n",
       "H   3599     1     3              4     1\n",
       "N    651     1     2              4     3\n",
       "O    680     0     0              3     8\n",
       "P      0     0     0              0     7\n",
       "S     13     0     0              0     2\n",
       "Zn     0     0     0              0     0"
      ]
     },
     "metadata": {},
     "output_type": "display_data"
    }
   ],
   "source": [
    "disease = {'HSV2': [2265,3599,651,680,0,13,0],'H1N1':[0,1,1,0,0,0,0],\n",
    "           'H2N2': [0,3,2,0,0,0,0],'hyperuricemia':[5,4,4,3,0,0,0],\n",
    "           'test': [2,1,3,8,7,2,0]}\n",
    "print('DISEASE')\n",
    "disease = pd.DataFrame(data=disease,index=['C','H','N','O','P','S','Zn'])\n",
    "display(disease)"
   ]
  },
  {
   "cell_type": "code",
   "execution_count": 5,
   "metadata": {
    "ExecuteTime": {
     "end_time": "2018-09-24T17:13:08.523464Z",
     "start_time": "2018-09-24T17:13:08.464601Z"
    }
   },
   "outputs": [
    {
     "data": {
      "text/html": [
       "<div>\n",
       "<style scoped>\n",
       "    .dataframe tbody tr th:only-of-type {\n",
       "        vertical-align: middle;\n",
       "    }\n",
       "\n",
       "    .dataframe tbody tr th {\n",
       "        vertical-align: top;\n",
       "    }\n",
       "\n",
       "    .dataframe thead th {\n",
       "        text-align: right;\n",
       "    }\n",
       "</style>\n",
       "<table border=\"1\" class=\"dataframe\">\n",
       "  <thead>\n",
       "    <tr style=\"text-align: right;\">\n",
       "      <th></th>\n",
       "      <th>HSV2</th>\n",
       "      <th>H1N1</th>\n",
       "      <th>H2N2</th>\n",
       "      <th>hyperuricemia</th>\n",
       "      <th>test</th>\n",
       "      <th>DEOXYRIBOSE</th>\n",
       "      <th>ADENINE</th>\n",
       "      <th>GUANINE</th>\n",
       "      <th>CYTOSINE</th>\n",
       "      <th>THYMIDINE</th>\n",
       "    </tr>\n",
       "  </thead>\n",
       "  <tbody>\n",
       "    <tr>\n",
       "      <th>C</th>\n",
       "      <td>2265</td>\n",
       "      <td>0</td>\n",
       "      <td>0</td>\n",
       "      <td>5</td>\n",
       "      <td>2</td>\n",
       "      <td>5</td>\n",
       "      <td>5</td>\n",
       "      <td>5</td>\n",
       "      <td>4</td>\n",
       "      <td>10</td>\n",
       "    </tr>\n",
       "    <tr>\n",
       "      <th>H</th>\n",
       "      <td>3599</td>\n",
       "      <td>1</td>\n",
       "      <td>3</td>\n",
       "      <td>4</td>\n",
       "      <td>1</td>\n",
       "      <td>10</td>\n",
       "      <td>5</td>\n",
       "      <td>5</td>\n",
       "      <td>5</td>\n",
       "      <td>14</td>\n",
       "    </tr>\n",
       "    <tr>\n",
       "      <th>N</th>\n",
       "      <td>651</td>\n",
       "      <td>1</td>\n",
       "      <td>2</td>\n",
       "      <td>4</td>\n",
       "      <td>3</td>\n",
       "      <td>0</td>\n",
       "      <td>5</td>\n",
       "      <td>5</td>\n",
       "      <td>3</td>\n",
       "      <td>2</td>\n",
       "    </tr>\n",
       "    <tr>\n",
       "      <th>O</th>\n",
       "      <td>680</td>\n",
       "      <td>0</td>\n",
       "      <td>0</td>\n",
       "      <td>3</td>\n",
       "      <td>8</td>\n",
       "      <td>4</td>\n",
       "      <td>0</td>\n",
       "      <td>1</td>\n",
       "      <td>1</td>\n",
       "      <td>5</td>\n",
       "    </tr>\n",
       "    <tr>\n",
       "      <th>P</th>\n",
       "      <td>0</td>\n",
       "      <td>0</td>\n",
       "      <td>0</td>\n",
       "      <td>0</td>\n",
       "      <td>7</td>\n",
       "      <td>0</td>\n",
       "      <td>0</td>\n",
       "      <td>0</td>\n",
       "      <td>0</td>\n",
       "      <td>0</td>\n",
       "    </tr>\n",
       "    <tr>\n",
       "      <th>S</th>\n",
       "      <td>13</td>\n",
       "      <td>0</td>\n",
       "      <td>0</td>\n",
       "      <td>0</td>\n",
       "      <td>2</td>\n",
       "      <td>0</td>\n",
       "      <td>0</td>\n",
       "      <td>0</td>\n",
       "      <td>0</td>\n",
       "      <td>0</td>\n",
       "    </tr>\n",
       "    <tr>\n",
       "      <th>Zn</th>\n",
       "      <td>0</td>\n",
       "      <td>0</td>\n",
       "      <td>0</td>\n",
       "      <td>0</td>\n",
       "      <td>0</td>\n",
       "      <td>0</td>\n",
       "      <td>0</td>\n",
       "      <td>0</td>\n",
       "      <td>0</td>\n",
       "      <td>0</td>\n",
       "    </tr>\n",
       "  </tbody>\n",
       "</table>\n",
       "</div>"
      ],
      "text/plain": [
       "    HSV2  H1N1  H2N2  hyperuricemia  test  DEOXYRIBOSE  ADENINE  GUANINE  \\\n",
       "C   2265     0     0              5     2            5        5        5   \n",
       "H   3599     1     3              4     1           10        5        5   \n",
       "N    651     1     2              4     3            0        5        5   \n",
       "O    680     0     0              3     8            4        0        1   \n",
       "P      0     0     0              0     7            0        0        0   \n",
       "S     13     0     0              0     2            0        0        0   \n",
       "Zn     0     0     0              0     0            0        0        0   \n",
       "\n",
       "    CYTOSINE  THYMIDINE  \n",
       "C          4         10  \n",
       "H          5         14  \n",
       "N          3          2  \n",
       "O          1          5  \n",
       "P          0          0  \n",
       "S          0          0  \n",
       "Zn         0          0  "
      ]
     },
     "execution_count": 5,
     "metadata": {},
     "output_type": "execute_result"
    }
   ],
   "source": [
    "medicine.join(amino_acids)\n",
    "medicine_test.join(amino_acids)\n",
    "disease.join(amino_acids)"
   ]
  },
  {
   "cell_type": "code",
   "execution_count": 6,
   "metadata": {
    "ExecuteTime": {
     "end_time": "2018-09-24T17:13:09.030369Z",
     "start_time": "2018-09-24T17:13:08.961555Z"
    }
   },
   "outputs": [],
   "source": [
    "from sklearn.model_selection import train_test_split\n",
    "\n",
    "X_train,X_test,y_train,y_test  = train_test_split(disease,medicine,test_size=.5)"
   ]
  },
  {
   "cell_type": "code",
   "execution_count": 7,
   "metadata": {
    "ExecuteTime": {
     "end_time": "2018-09-24T17:13:10.102152Z",
     "start_time": "2018-09-24T17:13:10.057271Z"
    }
   },
   "outputs": [
    {
     "data": {
      "text/plain": [
       "DecisionTreeRegressor(criterion='friedman_mse', max_depth=2,\n",
       "           max_features=None, max_leaf_nodes=None,\n",
       "           min_impurity_decrease=0.0, min_impurity_split=None,\n",
       "           min_samples_leaf=1, min_samples_split=2,\n",
       "           min_weight_fraction_leaf=0.0, presort=True, random_state=2,\n",
       "           splitter='best')"
      ]
     },
     "execution_count": 7,
     "metadata": {},
     "output_type": "execute_result"
    }
   ],
   "source": [
    "from sklearn.tree import DecisionTreeRegressor\n",
    "clf = DecisionTreeRegressor(max_depth = 2,criterion='friedman_mse', random_state=2,presort=True)\n",
    "clf.fit(medicine, disease)"
   ]
  },
  {
   "cell_type": "code",
   "execution_count": 96,
   "metadata": {
    "ExecuteTime": {
     "end_time": "2018-06-21T04:34:16.634868Z",
     "start_time": "2018-06-21T04:34:16.628884Z"
    }
   },
   "outputs": [
    {
     "data": {
      "text/plain": [
       "-0.5934877093503884"
      ]
     },
     "execution_count": 96,
     "metadata": {},
     "output_type": "execute_result"
    }
   ],
   "source": [
    "clf.score(disease,medicine)"
   ]
  },
  {
   "cell_type": "code",
   "execution_count": 75,
   "metadata": {
    "ExecuteTime": {
     "end_time": "2018-06-21T04:31:36.087783Z",
     "start_time": "2018-06-21T04:31:36.078809Z"
    }
   },
   "outputs": [
    {
     "data": {
      "text/html": [
       "<div>\n",
       "<style scoped>\n",
       "    .dataframe tbody tr th:only-of-type {\n",
       "        vertical-align: middle;\n",
       "    }\n",
       "\n",
       "    .dataframe tbody tr th {\n",
       "        vertical-align: top;\n",
       "    }\n",
       "\n",
       "    .dataframe thead th {\n",
       "        text-align: right;\n",
       "    }\n",
       "</style>\n",
       "<table border=\"1\" class=\"dataframe\">\n",
       "  <thead>\n",
       "    <tr style=\"text-align: right;\">\n",
       "      <th></th>\n",
       "      <th>Valacyclovir</th>\n",
       "      <th>Tea Tree</th>\n",
       "      <th>Oleurpein</th>\n",
       "      <th>Cannabidiolic Acid</th>\n",
       "      <th>Vitamin B-17</th>\n",
       "    </tr>\n",
       "  </thead>\n",
       "  <tbody>\n",
       "    <tr>\n",
       "      <th>C</th>\n",
       "      <td>13</td>\n",
       "      <td>28</td>\n",
       "      <td>25</td>\n",
       "      <td>22</td>\n",
       "      <td>20</td>\n",
       "    </tr>\n",
       "    <tr>\n",
       "      <th>H</th>\n",
       "      <td>20</td>\n",
       "      <td>60</td>\n",
       "      <td>32</td>\n",
       "      <td>29</td>\n",
       "      <td>27</td>\n",
       "    </tr>\n",
       "    <tr>\n",
       "      <th>N</th>\n",
       "      <td>6</td>\n",
       "      <td>0</td>\n",
       "      <td>13</td>\n",
       "      <td>0</td>\n",
       "      <td>1</td>\n",
       "    </tr>\n",
       "    <tr>\n",
       "      <th>O</th>\n",
       "      <td>4</td>\n",
       "      <td>4</td>\n",
       "      <td>0</td>\n",
       "      <td>4</td>\n",
       "      <td>11</td>\n",
       "    </tr>\n",
       "    <tr>\n",
       "      <th>P</th>\n",
       "      <td>0</td>\n",
       "      <td>2</td>\n",
       "      <td>0</td>\n",
       "      <td>0</td>\n",
       "      <td>0</td>\n",
       "    </tr>\n",
       "    <tr>\n",
       "      <th>S</th>\n",
       "      <td>0</td>\n",
       "      <td>4</td>\n",
       "      <td>0</td>\n",
       "      <td>0</td>\n",
       "      <td>0</td>\n",
       "    </tr>\n",
       "    <tr>\n",
       "      <th>Zn</th>\n",
       "      <td>0</td>\n",
       "      <td>1</td>\n",
       "      <td>0</td>\n",
       "      <td>0</td>\n",
       "      <td>0</td>\n",
       "    </tr>\n",
       "  </tbody>\n",
       "</table>\n",
       "</div>"
      ],
      "text/plain": [
       "    Valacyclovir  Tea Tree  Oleurpein  Cannabidiolic Acid  Vitamin B-17\n",
       "C             13        28         25                  22            20\n",
       "H             20        60         32                  29            27\n",
       "N              6         0         13                   0             1\n",
       "O              4         4          0                   4            11\n",
       "P              0         2          0                   0             0\n",
       "S              0         4          0                   0             0\n",
       "Zn             0         1          0                   0             0"
      ]
     },
     "execution_count": 75,
     "metadata": {},
     "output_type": "execute_result"
    }
   ],
   "source": [
    "pd.DataFrame(medicine_test)"
   ]
  },
  {
   "cell_type": "code",
   "execution_count": 76,
   "metadata": {
    "ExecuteTime": {
     "end_time": "2018-06-21T04:31:38.303236Z",
     "start_time": "2018-06-21T04:31:38.294288Z"
    }
   },
   "outputs": [
    {
     "data": {
      "text/html": [
       "<div>\n",
       "<style scoped>\n",
       "    .dataframe tbody tr th:only-of-type {\n",
       "        vertical-align: middle;\n",
       "    }\n",
       "\n",
       "    .dataframe tbody tr th {\n",
       "        vertical-align: top;\n",
       "    }\n",
       "\n",
       "    .dataframe thead th {\n",
       "        text-align: right;\n",
       "    }\n",
       "</style>\n",
       "<table border=\"1\" class=\"dataframe\">\n",
       "  <thead>\n",
       "    <tr style=\"text-align: right;\">\n",
       "      <th></th>\n",
       "      <th>0</th>\n",
       "      <th>1</th>\n",
       "      <th>2</th>\n",
       "      <th>3</th>\n",
       "      <th>4</th>\n",
       "    </tr>\n",
       "  </thead>\n",
       "  <tbody>\n",
       "    <tr>\n",
       "      <th>0</th>\n",
       "      <td>2265.000000</td>\n",
       "      <td>0.0</td>\n",
       "      <td>0.0</td>\n",
       "      <td>5.0</td>\n",
       "      <td>2.0</td>\n",
       "    </tr>\n",
       "    <tr>\n",
       "      <th>1</th>\n",
       "      <td>3599.000000</td>\n",
       "      <td>1.0</td>\n",
       "      <td>3.0</td>\n",
       "      <td>4.0</td>\n",
       "      <td>1.0</td>\n",
       "    </tr>\n",
       "    <tr>\n",
       "      <th>2</th>\n",
       "      <td>4.333333</td>\n",
       "      <td>0.0</td>\n",
       "      <td>0.0</td>\n",
       "      <td>0.0</td>\n",
       "      <td>3.0</td>\n",
       "    </tr>\n",
       "    <tr>\n",
       "      <th>3</th>\n",
       "      <td>4.333333</td>\n",
       "      <td>0.0</td>\n",
       "      <td>0.0</td>\n",
       "      <td>0.0</td>\n",
       "      <td>3.0</td>\n",
       "    </tr>\n",
       "    <tr>\n",
       "      <th>4</th>\n",
       "      <td>4.333333</td>\n",
       "      <td>0.0</td>\n",
       "      <td>0.0</td>\n",
       "      <td>0.0</td>\n",
       "      <td>3.0</td>\n",
       "    </tr>\n",
       "    <tr>\n",
       "      <th>5</th>\n",
       "      <td>4.333333</td>\n",
       "      <td>0.0</td>\n",
       "      <td>0.0</td>\n",
       "      <td>0.0</td>\n",
       "      <td>3.0</td>\n",
       "    </tr>\n",
       "    <tr>\n",
       "      <th>6</th>\n",
       "      <td>4.333333</td>\n",
       "      <td>0.0</td>\n",
       "      <td>0.0</td>\n",
       "      <td>0.0</td>\n",
       "      <td>3.0</td>\n",
       "    </tr>\n",
       "  </tbody>\n",
       "</table>\n",
       "</div>"
      ],
      "text/plain": [
       "             0    1    2    3    4\n",
       "0  2265.000000  0.0  0.0  5.0  2.0\n",
       "1  3599.000000  1.0  3.0  4.0  1.0\n",
       "2     4.333333  0.0  0.0  0.0  3.0\n",
       "3     4.333333  0.0  0.0  0.0  3.0\n",
       "4     4.333333  0.0  0.0  0.0  3.0\n",
       "5     4.333333  0.0  0.0  0.0  3.0\n",
       "6     4.333333  0.0  0.0  0.0  3.0"
      ]
     },
     "execution_count": 76,
     "metadata": {},
     "output_type": "execute_result"
    }
   ],
   "source": [
    "pd.DataFrame(clf.predict(medicine_test))"
   ]
  },
  {
   "cell_type": "code",
   "execution_count": 33,
   "metadata": {
    "ExecuteTime": {
     "end_time": "2018-06-21T04:20:19.549213Z",
     "start_time": "2018-06-21T04:20:19.543195Z"
    }
   },
   "outputs": [
    {
     "data": {
      "text/html": [
       "<div>\n",
       "<style scoped>\n",
       "    .dataframe tbody tr th:only-of-type {\n",
       "        vertical-align: middle;\n",
       "    }\n",
       "\n",
       "    .dataframe tbody tr th {\n",
       "        vertical-align: top;\n",
       "    }\n",
       "\n",
       "    .dataframe thead th {\n",
       "        text-align: right;\n",
       "    }\n",
       "</style>\n",
       "<table border=\"1\" class=\"dataframe\">\n",
       "  <thead>\n",
       "    <tr style=\"text-align: right;\">\n",
       "      <th></th>\n",
       "      <th>Valacyclovir</th>\n",
       "      <th>Momordica</th>\n",
       "      <th>Oleurpein</th>\n",
       "      <th>Linalool</th>\n",
       "      <th>Cannabigerolic Acid</th>\n",
       "    </tr>\n",
       "  </thead>\n",
       "  <tbody>\n",
       "    <tr>\n",
       "      <th>P</th>\n",
       "      <td>0</td>\n",
       "      <td>0</td>\n",
       "      <td>0</td>\n",
       "      <td>0</td>\n",
       "      <td>0</td>\n",
       "    </tr>\n",
       "    <tr>\n",
       "      <th>O</th>\n",
       "      <td>4</td>\n",
       "      <td>83</td>\n",
       "      <td>0</td>\n",
       "      <td>1</td>\n",
       "      <td>4</td>\n",
       "    </tr>\n",
       "  </tbody>\n",
       "</table>\n",
       "</div>"
      ],
      "text/plain": [
       "   Valacyclovir  Momordica  Oleurpein  Linalool  Cannabigerolic Acid\n",
       "P             0          0          0         0                    0\n",
       "O             4         83          0         1                    4"
      ]
     },
     "execution_count": 33,
     "metadata": {},
     "output_type": "execute_result"
    }
   ],
   "source": [
    "pd.DataFrame(y_test)"
   ]
  },
  {
   "cell_type": "code",
   "execution_count": null,
   "metadata": {},
   "outputs": [],
   "source": []
  },
  {
   "cell_type": "code",
   "execution_count": 14,
   "metadata": {
    "ExecuteTime": {
     "end_time": "2018-09-24T17:14:44.899537Z",
     "start_time": "2018-09-24T17:14:44.895548Z"
    }
   },
   "outputs": [],
   "source": [
    "def baseline_model():\n",
    "    model = Sequential()\n",
    "    model.add(Dense(3, input_dim=5, activation='relu'))\n",
    "    model.add(Dense(3, activation='relu'))\n",
    "    model.add(Dense(3, activation='relu'))\n",
    "    model.add(Dense(5,activation='softmax'))\n",
    "\n",
    "    model.compile(loss='mean_squared_error', optimizer='adam')\n",
    "    \n",
    "\n",
    "    return model\n"
   ]
  },
  {
   "cell_type": "code",
   "execution_count": null,
   "metadata": {},
   "outputs": [],
   "source": []
  },
  {
   "cell_type": "code",
   "execution_count": 15,
   "metadata": {
    "ExecuteTime": {
     "end_time": "2018-09-24T17:14:50.161312Z",
     "start_time": "2018-09-24T17:14:45.959390Z"
    }
   },
   "outputs": [
    {
     "name": "stdout",
     "output_type": "stream",
     "text": [
      "Epoch 1/1\n",
      "5/5 [==============================] - 0s 67ms/step - loss: 35441.8711\n",
      "2/2 [==============================] - 0s 44ms/step\n",
      "Epoch 1/1\n",
      "5/5 [==============================] - 0s 72ms/step - loss: 723238.2500\n",
      "2/2 [==============================] - 0s 48ms/step\n",
      "Epoch 1/1\n",
      "6/6 [==============================] - 0s 65ms/step - loss: 632274.1875\n",
      "1/1 [==============================] - 0s 110ms/step\n",
      "Epoch 1/1\n",
      "6/6 [==============================] - 0s 66ms/step - loss: 632309.4375\n",
      "1/1 [==============================] - 0s 115ms/step\n",
      "Epoch 1/1\n",
      "6/6 [==============================] - 0s 72ms/step - loss: 632290.4375\n",
      "1/1 [==============================] - 0s 127ms/step\n",
      "Baseline: -379343.93 (715201.25) MSE\n"
     ]
    }
   ],
   "source": [
    "seed = 7\n",
    "np.random.seed(seed)\n",
    "\n",
    "# create model\n",
    "estimator = KerasRegressor(build_fn=baseline_model, nb_epoch=500, batch_size=64, verbose=True)\n",
    "\n",
    "kfold = KFold(n_splits=5, random_state=seed)\n",
    "results = cross_val_score(estimator, amino_acids, disease, cv=kfold)\n",
    "\n",
    "print('Baseline: %.2f (%.2f) MSE' % (results.mean(), results.std()))"
   ]
  },
  {
   "cell_type": "code",
   "execution_count": 13,
   "metadata": {
    "ExecuteTime": {
     "end_time": "2018-09-24T17:14:13.680970Z",
     "start_time": "2018-09-24T17:14:13.666010Z"
    }
   },
   "outputs": [
    {
     "ename": "NameError",
     "evalue": "name 'x_train' is not defined",
     "output_type": "error",
     "traceback": [
      "\u001b[1;31m---------------------------------------------------------------------------\u001b[0m",
      "\u001b[1;31mNameError\u001b[0m                                 Traceback (most recent call last)",
      "\u001b[1;32m<ipython-input-13-e9a1fd72abed>\u001b[0m in \u001b[0;36m<module>\u001b[1;34m()\u001b[0m\n\u001b[1;32m----> 1\u001b[1;33m \u001b[0mestimator\u001b[0m\u001b[1;33m.\u001b[0m\u001b[0mfit\u001b[0m\u001b[1;33m(\u001b[0m\u001b[0mx_train\u001b[0m\u001b[1;33m,\u001b[0m\u001b[0my_train\u001b[0m\u001b[1;33m)\u001b[0m\u001b[1;33m\u001b[0m\u001b[0m\n\u001b[0m",
      "\u001b[1;31mNameError\u001b[0m: name 'x_train' is not defined"
     ]
    }
   ],
   "source": [
    "estimator.fit(x_train,y_train)"
   ]
  },
  {
   "cell_type": "code",
   "execution_count": null,
   "metadata": {},
   "outputs": [],
   "source": [
    "estimator.score(x)"
   ]
  },
  {
   "cell_type": "code",
   "execution_count": 12,
   "metadata": {},
   "outputs": [
    {
     "name": "stdout",
     "output_type": "stream",
     "text": [
      "CREATING REGRESSION PERFOMANCE METRIC\n",
      "CREATED PERFOMANCE METRIC\n"
     ]
    }
   ],
   "source": [
    "print('CREATING REGRESSION PERFOMANCE METRIC')\n",
    "def performance_metric(y_true, y_predict):\n",
    "    from sklearn.metrics import r2_score\n",
    "    \"\"\" Calculates and returns the performance score between \n",
    "        true and predicted values based on the metric chosen. \"\"\"\n",
    "    \n",
    "    # TODO: Calculate the performance score between 'y_true' and 'y_predict'\n",
    "    score = r2_score(y_true, y_predict)\n",
    "\n",
    "    # Return the score\n",
    "    return score\n",
    "print('CREATED PERFOMANCE METRIC')"
   ]
  },
  {
   "cell_type": "code",
   "execution_count": 44,
   "metadata": {},
   "outputs": [
    {
     "name": "stdout",
     "output_type": "stream",
     "text": [
      "fitting the RandomForestClassifier to a DECISIONTREECLASSIFIER \n",
      " \n",
      " \n",
      "  \n"
     ]
    }
   ],
   "source": [
    "from sklearn.ensemble import AdaBoostRegressor\n",
    "from sklearn.metrics import make_scorer\n",
    "from sklearn.grid_search import GridSearchCV\n",
    "from sklearn.cross_validation import ShuffleSplit\n",
    "print('fitting the RandomForestClassifier to a DECISIONTREECLASSIFIER \\n \\n \\n  ')\n",
    "def fit_model(x, y):\n",
    "    \"\"\" Performs grid search over the 'max_depth' parameter for a \n",
    "        decision tree regressor trained on the input data [X, y]. \"\"\"\n",
    "    \n",
    "    # Create cross-validation sets from the training data\n",
    "    \n",
    "    regressor = RandomForestRegressor(DecisionTreeRegressor(criterion='mae',max_depth=3,max_leaf_nodes=6,\n",
    "                                                              min_samples_leaf=1, min_samples_split=2))\n",
    "\n",
    "    params = {'criterion':['mse','mae'],\n",
    "        'n_estimators':[500,250,400,600],\n",
    "          'verbose':[True],\n",
    "          'bootstrap':[True],\n",
    "            'n_jobs':[3],\n",
    "              'oob_score':[True],\n",
    "              'max_depth':[3,8,5,4,2],\n",
    "              'max_features':['auto','log2','sqrt'],\n",
    "              'warm_start':[False,True]\n",
    "             }\n",
    "\n",
    "    # TODO: Transform 'performance_metric' into a scoring function using 'make_scorer' \n",
    "    scoring_fnc = make_scorer(performance_metric)\n",
    "\n",
    "    # TODO: Create the grid search object\n",
    "    grid = GridSearchCV(regressor, params, scoring = scoring_fnc)\n",
    "\n",
    "    # Fit the grid search object to the data to compute the optimal model\n",
    "    grid = grid.fit(x, y)\n",
    "\n",
    "    # Return the optimal model after fitting the data\n",
    "    return grid.best_estimator_"
   ]
  },
  {
   "cell_type": "code",
   "execution_count": null,
   "metadata": {},
   "outputs": [],
   "source": []
  },
  {
   "cell_type": "code",
   "execution_count": 68,
   "metadata": {},
   "outputs": [],
   "source": [
    "# from sklearn.ensemble import AdaBoostRegressor\n",
    "# from sklearn.tree import DecisionTreeRegressor\n",
    "# reg = fit_model(amino_acids,disease)\n",
    "\n"
   ]
  },
  {
   "cell_type": "code",
   "execution_count": 46,
   "metadata": {},
   "outputs": [
    {
     "name": "stdout",
     "output_type": "stream",
     "text": [
      "RandomForestRegressor(bootstrap=True, criterion='mae', max_depth=5,\n",
      "           max_features='auto', max_leaf_nodes=None,\n",
      "           min_impurity_decrease=0.0, min_impurity_split=None,\n",
      "           min_samples_leaf=1, min_samples_split=2,\n",
      "           min_weight_fraction_leaf=0.0, n_estimators=250, n_jobs=3,\n",
      "           oob_score=True, random_state=None, verbose=True,\n",
      "           warm_start=True)\n"
     ]
    }
   ],
   "source": [
    "reg.set_params(warm_start=True)\n",
    "reg.get_params()\n",
    "print(reg)\n",
    "\n"
   ]
  },
  {
   "cell_type": "code",
   "execution_count": 13,
   "metadata": {},
   "outputs": [],
   "source": [
    "reg = RandomForestRegressor(bootstrap=True, criterion='mae', max_depth=5,\n",
    "           max_features='auto', max_leaf_nodes=None,\n",
    "           min_impurity_decrease=0.4, \n",
    "           min_samples_leaf=1, min_samples_split=2,\n",
    "           min_weight_fraction_leaf=0.0, n_estimators=250, n_jobs=3,\n",
    "           oob_score=True, random_state=None, verbose=True,\n",
    "           warm_start=False)"
   ]
  },
  {
   "cell_type": "code",
   "execution_count": 61,
   "metadata": {},
   "outputs": [
    {
     "name": "stderr",
     "output_type": "stream",
     "text": [
      "[Parallel(n_jobs=3)]: Done  44 tasks      | elapsed:    0.0s\n",
      "[Parallel(n_jobs=3)]: Done 194 tasks      | elapsed:    0.1s\n",
      "[Parallel(n_jobs=3)]: Done 250 out of 250 | elapsed:    0.2s finished\n"
     ]
    },
    {
     "data": {
      "text/plain": [
       "RandomForestRegressor(bootstrap=True, criterion='mae', max_depth=5,\n",
       "           max_features='auto', max_leaf_nodes=None,\n",
       "           min_impurity_decrease=0.4, min_impurity_split=None,\n",
       "           min_samples_leaf=1, min_samples_split=2,\n",
       "           min_weight_fraction_leaf=0.0, n_estimators=250, n_jobs=3,\n",
       "           oob_score=True, random_state=None, verbose=True,\n",
       "           warm_start=False)"
      ]
     },
     "execution_count": 61,
     "metadata": {},
     "output_type": "execute_result"
    }
   ],
   "source": [
    "reg.fit(amino_acids,disease)"
   ]
  },
  {
   "cell_type": "code",
   "execution_count": null,
   "metadata": {},
   "outputs": [],
   "source": [
    "\n",
    "beta = 0.5\n",
    "recall = 1.0\n",
    "tn = 0\n",
    "fn = 0\n",
    "tp = np.sum(medicine)\n",
    "fp = income.count(medicine) - tp\n",
    "precision = tp/(tp+fp)\n",
    "recall = tp /(tp+fn)\n",
    "F1 = 2 * (precision * recall) / (precision + recall)\n",
    "# TODO: Calculate F-score using the formula above for beta = 0.5 and correct values for precision and recall.\n",
    "fscore = (1 + beta**2) * accuracy * recall / (beta**2 * accuracy + recall)\n",
    "# Print the results \n",
    "print (\"Naive Predictor: \\n [Accuracy score:-> {:.4f}, \\n F-score:-> {:.4f}, \\n Precision Score:-> {:.4f}, \\n Recall Score:-> {:.4f}, \\n F1 Score:->{:.4f}]\".format(accuracy, fscore, precision, recall,F1))\n",
    "\n",
    "\n",
    "print (\"Unoptimized model\\n------\")\n",
    "print (\"Accuracy score on testing data: {:.4f}\".format(per(disease, medicine)))\n",
    "print (\"F-score on testing data: {:.4f}\".format(fbeta_score(disease, medicine, beta = 0.5)))\n",
    "print (\"\\nOptimized Model\\n------\")\n",
    "print (\"Final accuracy score on the testing data: {:.4f}\".format(accuracy_score(disease, reg.predict(medicine))))\n",
    "print (\"Final F-score on the testing data: {:.4f}\".format(fbeta_score(disease, reg.predict(medicine), beta = 0.5)))"
   ]
  },
  {
   "cell_type": "code",
   "execution_count": 62,
   "metadata": {},
   "outputs": [
    {
     "name": "stderr",
     "output_type": "stream",
     "text": [
      "[Parallel(n_jobs=3)]: Done  44 tasks      | elapsed:    0.0s\n",
      "[Parallel(n_jobs=3)]: Done 194 tasks      | elapsed:    0.0s\n",
      "[Parallel(n_jobs=3)]: Done 250 out of 250 | elapsed:    0.0s finished\n"
     ]
    },
    {
     "data": {
      "text/plain": [
       "0.8120250943264616"
      ]
     },
     "execution_count": 62,
     "metadata": {},
     "output_type": "execute_result"
    }
   ],
   "source": [
    "reg.score(amino_acids,disease)"
   ]
  },
  {
   "cell_type": "code",
   "execution_count": 64,
   "metadata": {},
   "outputs": [
    {
     "name": "stderr",
     "output_type": "stream",
     "text": [
      "[Parallel(n_jobs=3)]: Done  44 tasks      | elapsed:    0.0s\n",
      "[Parallel(n_jobs=3)]: Done 194 tasks      | elapsed:    0.0s\n",
      "[Parallel(n_jobs=3)]: Done 250 out of 250 | elapsed:    0.0s finished\n"
     ]
    },
    {
     "data": {
      "text/plain": [
       "array([[3.094760e+02, 4.909120e+02, 9.085400e+01, 9.689200e+01,\n",
       "        3.640000e+00, 2.808000e+00],\n",
       "       [1.551460e+02, 2.465140e+02, 4.641400e+01, 4.910600e+01,\n",
       "        2.240000e+00, 1.524000e+00],\n",
       "       [1.450212e+03, 2.303876e+03, 4.176400e+02, 4.374040e+02,\n",
       "        1.876000e+00, 8.856000e+00],\n",
       "       [3.094760e+02, 4.909120e+02, 9.085400e+01, 9.689200e+01,\n",
       "        3.640000e+00, 2.808000e+00],\n",
       "       [3.277400e+02, 5.193680e+02, 9.620200e+01, 1.037240e+02,\n",
       "        4.984000e+00, 3.296000e+00]])"
      ]
     },
     "execution_count": 64,
     "metadata": {},
     "output_type": "execute_result"
    }
   ],
   "source": [
    "reg.predict(medicine)"
   ]
  },
  {
   "cell_type": "code",
   "execution_count": 66,
   "metadata": {},
   "outputs": [
    {
     "name": "stdout",
     "output_type": "stream",
     "text": [
      "cure for HSV2{C:309, H:490, N:91, O:96, P:3.64, S:2.8}\n",
      "cure for H1N1 {C:155, H:246, N:46, O:49, P:1.9, S:8.85}\n",
      "cure for H2N2 {C:145, H:231, N:41.8, O:44, P:1.9, S:8.9}\n",
      "cure for Hyperuricemia {C:309, H:490, N:91, O:96, P:3.64, S:2.8}\n",
      "cure for Random {C:327, H:519, N:96.2, O:1.04, P:5.0., S:3.3}\n"
     ]
    }
   ],
   "source": [
    "print('cure for HSV2{C:309, H:490, N:91, O:96, P:3.64, S:2.8}')\n",
    "print('cure for H1N1 {C:155, H:246, N:46, O:49, P:1.9, S:8.85}')\n",
    "print('cure for H2N2 {C:145, H:231, N:41.8, O:44, P:1.9, S:8.9}')\n",
    "print('cure for Hyperuricemia {C:309, H:490, N:91, O:96, P:3.64, S:2.8}')\n",
    "print('cure for Random {C:327, H:519, N:96.2, O:1.04, P:5.0., S:3.3}')\n",
    "\n"
   ]
  },
  {
   "cell_type": "code",
   "execution_count": null,
   "metadata": {},
   "outputs": [],
   "source": []
  },
  {
   "cell_type": "code",
   "execution_count": null,
   "metadata": {},
   "outputs": [],
   "source": [
    "# val_can_smiles = 'CC(C)C(C(=O)OCCOCN1C=NC2=C1NC(=NC2=O)N)N'\n",
    "# ole_can_smiles = 'CC=C1C(C(=COC1OC2C(C(C(C(O2)CO)O)O)O)C(=O)OC)CC(=O)OCCC3=CC(=C(C=C3)O)O'\n",
    "# thc_can_smiles = 'CCCCCC1=CC2=C(C3C=C(CCC3C(O2)(C)C)C)C(=C1)O'\n",
    "\n",
    "\n",
    "# print('C:{}'.format(val_can_smiles.count('C')))\n",
    "# print('C:{}'.format(ole_can_smiles.count('C')))\n",
    "# print('C:{}'.format(thc_can_smiles.count('C')))\n",
    "# print('\\n')\n",
    "# print('O:{}'.format(val_can_smiles.count('O')))\n",
    "# print('O:{}'.format(ole_can_smiles.count('O')))\n",
    "# print('O:{}'.format(thc_can_smiles.count('O')))\n",
    "# print('\\n')\n",
    "# print('H:{}'.format(val_can_smiles.count('H')))\n",
    "# print('H:{}'.format(ole_can_smiles.count('H')))\n",
    "# print('H:{}'.format(thc_can_smiles.count('H')))\n",
    "# print('\\n')\n",
    "# print('N:{}'.format(val_can_smiles.count('N')))\n",
    "# print('N:{}'.format(ole_can_smiles.count('N')))\n",
    "# print('N:{}'.format(thc_can_smiles.count('N')))\n",
    "\n",
    "v_1 = 'CC(C)C'\n",
    "o_1 = 'CC=C1C'\n",
    "t_1 = 'CCCCCC1=CC2=C'\n",
    "\n",
    "v_2 = '(C(=O)OCCOCN1C=NC2=C1NC(=NC2=O)'\n",
    "o_2 ='(C(=COC1OC2C(C(C(C(O2)CO)O)O)O)'\n",
    "t_2 ='(C3C=C(CCC3C(O2)(C)C)C)'\n",
    "\n",
    "v_3 = 'N'\n",
    "o_3 = 'C(=O)OC)CC(=O)OCCC3=CC(=C(C=C3)O)O'\n",
    "t_3 = 'C(=C1)O'\n",
    "\n",
    "print('C:{}'.format(val_can_smiles.count('C')))\n",
    "print('C:{}'.format(ole_can_smiles.count('C')))\n",
    "print('C:{}'.format(thc_can_smiles.count('C')))\n",
    "print('\\n')\n",
    "print('O:{}'.format(val_can_smiles.count('O')))\n",
    "print('O:{}'.format(ole_can_smiles.count('O')))\n",
    "print('O:{}'.format(thc_can_smiles.count('O')))\n",
    "print('\\n')\n",
    "print('H:{}'.format(val_can_smiles.count('H')))\n",
    "print('H:{}'.format(ole_can_smiles.count('H')))\n",
    "print('H:{}'.format(thc_can_smiles.count('H')))\n",
    "print('\\n')\n",
    "print('N:{}'.format(val_can_smiles.count('N')))\n",
    "print('N:{}'.format(ole_can_smiles.count('N')))\n",
    "print('N:{}'.format(thc_can_smiles.count('N')))\n",
    "\n",
    "print('C:{}'.format(v_1.count('C')))\n",
    "print('C:{}'.format(o_1.count('C')))\n",
    "print('C:{}'.format(t_1.count('C')))\n",
    "print('\\n')\n",
    "print('O:{}'.format(v_2.count('O')))\n",
    "print('O:{}'.format(o_2.count('O')))\n",
    "print('O:{}'.format(t_2.count('O')))\n",
    "print('\\n')\n",
    "print('H:{}'.format(v_3.count('H')))\n",
    "print('H:{}'.format(o_3.count('H')))\n",
    "print('H:{}'.format(t_3.count('H')))\n",
    "print('\\n')\n",
    "print('N:{}'.format(v_2.count('N')))\n",
    "print('N:{}'.format(o_2.count('N')))\n",
    "print('N:{}'.format(t_2.count('N')))\n"
   ]
  }
 ],
 "metadata": {
  "kernelspec": {
   "display_name": "Python 3",
   "language": "python",
   "name": "python3"
  },
  "language_info": {
   "codemirror_mode": {
    "name": "ipython",
    "version": 3
   },
   "file_extension": ".py",
   "mimetype": "text/x-python",
   "name": "python",
   "nbconvert_exporter": "python",
   "pygments_lexer": "ipython3",
   "version": "3.7.3"
  },
  "latex_envs": {
   "LaTeX_envs_menu_present": true,
   "autoclose": false,
   "autocomplete": true,
   "bibliofile": "biblio.bib",
   "cite_by": "apalike",
   "current_citInitial": 1,
   "eqLabelWithNumbers": true,
   "eqNumInitial": 1,
   "hotkeys": {
    "equation": "Ctrl-E",
    "itemize": "Ctrl-I"
   },
   "labels_anchors": false,
   "latex_user_defs": false,
   "report_style_numbering": true,
   "user_envs_cfg": false
  }
 },
 "nbformat": 4,
 "nbformat_minor": 2
}
